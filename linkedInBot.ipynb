{
 "cells": [
  {
   "cell_type": "code",
   "execution_count": 59,
   "metadata": {},
   "outputs": [],
   "source": [
    "import os, random, sys, time\n",
    "from urllib.parse import urlparse\n",
    "from selenium.common.exceptions import NoSuchElementException\n",
    "from selenium import webdriver\n",
    "from selenium.webdriver.common.keys import Keys\n",
    "from selenium.webdriver.support.ui import Select\n",
    "from selenium.webdriver.support.ui import WebDriverWait\n",
    "from selenium.webdriver.common.by import By\n",
    "\n",
    "from bs4 import BeautifulSoup\n",
    "import pandas as pd\n",
    "import random as rd\n",
    "from pushbullet import Pushbullet"
   ]
  },
  {
   "cell_type": "code",
   "execution_count": 60,
   "metadata": {},
   "outputs": [
    {
     "name": "stderr",
     "output_type": "stream",
     "text": [
      "C:\\Users\\LEONAR~1\\AppData\\Local\\Temp/ipykernel_11672/2569624662.py:1: DeprecationWarning: executable_path has been deprecated, please pass in a Service object\n",
      "  driver = webdriver.Chrome('driver\\chromedriver.exe')\n"
     ]
    }
   ],
   "source": [
    "driver = webdriver.Chrome('driver\\chromedriver.exe')"
   ]
  },
  {
   "cell_type": "code",
   "execution_count": 61,
   "metadata": {},
   "outputs": [],
   "source": [
    "def login():\n",
    "    driver.get('https://www.linkedin.com/login')\n",
    "    file = open('config.txt')\n",
    "    lines = file.readlines()\n",
    "    username = lines[0]\n",
    "    password = lines[1]\n",
    "    elementID = driver.find_element_by_id('username')\n",
    "    time.sleep(1)\n",
    "    elementID.send_keys(username)\n",
    "    elementID = driver.find_element_by_id('password')\n",
    "    time.sleep(1)\n",
    "    elementID.send_keys(password)\n",
    "    time.sleep(2)\n",
    "    elementID.submit()"
   ]
  },
  {
   "cell_type": "code",
   "execution_count": 62,
   "metadata": {},
   "outputs": [
    {
     "name": "stderr",
     "output_type": "stream",
     "text": [
      "C:\\Users\\LEONAR~1\\AppData\\Local\\Temp/ipykernel_11672/263009841.py:7: DeprecationWarning: find_element_by_* commands are deprecated. Please use find_element() instead\n",
      "  elementID = driver.find_element_by_id('username')\n",
      "C:\\Users\\LEONAR~1\\AppData\\Local\\Temp/ipykernel_11672/263009841.py:10: DeprecationWarning: find_element_by_* commands are deprecated. Please use find_element() instead\n",
      "  elementID = driver.find_element_by_id('password')\n"
     ]
    },
    {
     "ename": "StaleElementReferenceException",
     "evalue": "Message: stale element reference: element is not attached to the page document\n  (Session info: chrome=108.0.5359.125)\nStacktrace:\nBacktrace:\n\t(No symbol) [0x00BAF243]\n\t(No symbol) [0x00B37FD1]\n\t(No symbol) [0x00A2D04D]\n\t(No symbol) [0x00A2FD34]\n\t(No symbol) [0x00A2FBE5]\n\t(No symbol) [0x00A2FE80]\n\t(No symbol) [0x00A5BD55]\n\t(No symbol) [0x00A5C22B]\n\t(No symbol) [0x00A52CA1]\n\t(No symbol) [0x00A785D4]\n\t(No symbol) [0x00A52BFF]\n\t(No symbol) [0x00A78804]\n\t(No symbol) [0x00A8C9EB]\n\t(No symbol) [0x00A78386]\n\t(No symbol) [0x00A5163C]\n\t(No symbol) [0x00A5269D]\n\tGetHandleVerifier [0x00E49A22+2655074]\n\tGetHandleVerifier [0x00E3CA24+2601828]\n\tGetHandleVerifier [0x00C58C0A+619850]\n\tGetHandleVerifier [0x00C57830+614768]\n\t(No symbol) [0x00B405FC]\n\t(No symbol) [0x00B45968]\n\t(No symbol) [0x00B45A55]\n\t(No symbol) [0x00B5051B]\n\tBaseThreadInitThunk [0x774200F9+25]\n\tRtlGetAppContainerNamedObjectPath [0x77AD7BBE+286]\n\tRtlGetAppContainerNamedObjectPath [0x77AD7B8E+238]\n",
     "output_type": "error",
     "traceback": [
      "\u001b[1;31m---------------------------------------------------------------------------\u001b[0m",
      "\u001b[1;31mStaleElementReferenceException\u001b[0m            Traceback (most recent call last)",
      "\u001b[1;32mC:\\Users\\LEONAR~1\\AppData\\Local\\Temp/ipykernel_11672/2532262654.py\u001b[0m in \u001b[0;36m<module>\u001b[1;34m\u001b[0m\n\u001b[1;32m----> 1\u001b[1;33m \u001b[0mlogin\u001b[0m\u001b[1;33m(\u001b[0m\u001b[1;33m)\u001b[0m\u001b[1;33m\u001b[0m\u001b[1;33m\u001b[0m\u001b[0m\n\u001b[0m",
      "\u001b[1;32mC:\\Users\\LEONAR~1\\AppData\\Local\\Temp/ipykernel_11672/263009841.py\u001b[0m in \u001b[0;36mlogin\u001b[1;34m()\u001b[0m\n\u001b[0;32m     12\u001b[0m     \u001b[0melementID\u001b[0m\u001b[1;33m.\u001b[0m\u001b[0msend_keys\u001b[0m\u001b[1;33m(\u001b[0m\u001b[0mpassword\u001b[0m\u001b[1;33m)\u001b[0m\u001b[1;33m\u001b[0m\u001b[1;33m\u001b[0m\u001b[0m\n\u001b[0;32m     13\u001b[0m     \u001b[0mtime\u001b[0m\u001b[1;33m.\u001b[0m\u001b[0msleep\u001b[0m\u001b[1;33m(\u001b[0m\u001b[1;36m2\u001b[0m\u001b[1;33m)\u001b[0m\u001b[1;33m\u001b[0m\u001b[1;33m\u001b[0m\u001b[0m\n\u001b[1;32m---> 14\u001b[1;33m     \u001b[0melementID\u001b[0m\u001b[1;33m.\u001b[0m\u001b[0msubmit\u001b[0m\u001b[1;33m(\u001b[0m\u001b[1;33m)\u001b[0m\u001b[1;33m\u001b[0m\u001b[1;33m\u001b[0m\u001b[0m\n\u001b[0m",
      "\u001b[1;32mc:\\Users\\Leonardo Plaza\\AppData\\Local\\Programs\\Python\\Python39\\lib\\site-packages\\selenium\\webdriver\\remote\\webelement.py\u001b[0m in \u001b[0;36msubmit\u001b[1;34m(self)\u001b[0m\n\u001b[0;32m     83\u001b[0m     \u001b[1;32mdef\u001b[0m \u001b[0msubmit\u001b[0m\u001b[1;33m(\u001b[0m\u001b[0mself\u001b[0m\u001b[1;33m)\u001b[0m\u001b[1;33m:\u001b[0m\u001b[1;33m\u001b[0m\u001b[1;33m\u001b[0m\u001b[0m\n\u001b[0;32m     84\u001b[0m         \u001b[1;34m\"\"\"Submits a form.\"\"\"\u001b[0m\u001b[1;33m\u001b[0m\u001b[1;33m\u001b[0m\u001b[0m\n\u001b[1;32m---> 85\u001b[1;33m         \u001b[0mform\u001b[0m \u001b[1;33m=\u001b[0m \u001b[0mself\u001b[0m\u001b[1;33m.\u001b[0m\u001b[0mfind_element\u001b[0m\u001b[1;33m(\u001b[0m\u001b[0mBy\u001b[0m\u001b[1;33m.\u001b[0m\u001b[0mXPATH\u001b[0m\u001b[1;33m,\u001b[0m \u001b[1;34m\"./ancestor-or-self::form\"\u001b[0m\u001b[1;33m)\u001b[0m\u001b[1;33m\u001b[0m\u001b[1;33m\u001b[0m\u001b[0m\n\u001b[0m\u001b[0;32m     86\u001b[0m         self._parent.execute_script(\n\u001b[0;32m     87\u001b[0m             \u001b[1;34m\"var e = arguments[0].ownerDocument.createEvent('Event');\"\u001b[0m\u001b[1;33m\u001b[0m\u001b[1;33m\u001b[0m\u001b[0m\n",
      "\u001b[1;32mc:\\Users\\Leonardo Plaza\\AppData\\Local\\Programs\\Python\\Python39\\lib\\site-packages\\selenium\\webdriver\\remote\\webelement.py\u001b[0m in \u001b[0;36mfind_element\u001b[1;34m(self, by, value)\u001b[0m\n\u001b[0;32m    733\u001b[0m             \u001b[0mvalue\u001b[0m \u001b[1;33m=\u001b[0m \u001b[1;34m'[name=\"%s\"]'\u001b[0m \u001b[1;33m%\u001b[0m \u001b[0mvalue\u001b[0m\u001b[1;33m\u001b[0m\u001b[1;33m\u001b[0m\u001b[0m\n\u001b[0;32m    734\u001b[0m \u001b[1;33m\u001b[0m\u001b[0m\n\u001b[1;32m--> 735\u001b[1;33m         return self._execute(Command.FIND_CHILD_ELEMENT,\n\u001b[0m\u001b[0;32m    736\u001b[0m                              {\"using\": by, \"value\": value})['value']\n\u001b[0;32m    737\u001b[0m \u001b[1;33m\u001b[0m\u001b[0m\n",
      "\u001b[1;32mc:\\Users\\Leonardo Plaza\\AppData\\Local\\Programs\\Python\\Python39\\lib\\site-packages\\selenium\\webdriver\\remote\\webelement.py\u001b[0m in \u001b[0;36m_execute\u001b[1;34m(self, command, params)\u001b[0m\n\u001b[0;32m    708\u001b[0m             \u001b[0mparams\u001b[0m \u001b[1;33m=\u001b[0m \u001b[1;33m{\u001b[0m\u001b[1;33m}\u001b[0m\u001b[1;33m\u001b[0m\u001b[1;33m\u001b[0m\u001b[0m\n\u001b[0;32m    709\u001b[0m         \u001b[0mparams\u001b[0m\u001b[1;33m[\u001b[0m\u001b[1;34m'id'\u001b[0m\u001b[1;33m]\u001b[0m \u001b[1;33m=\u001b[0m \u001b[0mself\u001b[0m\u001b[1;33m.\u001b[0m\u001b[0m_id\u001b[0m\u001b[1;33m\u001b[0m\u001b[1;33m\u001b[0m\u001b[0m\n\u001b[1;32m--> 710\u001b[1;33m         \u001b[1;32mreturn\u001b[0m \u001b[0mself\u001b[0m\u001b[1;33m.\u001b[0m\u001b[0m_parent\u001b[0m\u001b[1;33m.\u001b[0m\u001b[0mexecute\u001b[0m\u001b[1;33m(\u001b[0m\u001b[0mcommand\u001b[0m\u001b[1;33m,\u001b[0m \u001b[0mparams\u001b[0m\u001b[1;33m)\u001b[0m\u001b[1;33m\u001b[0m\u001b[1;33m\u001b[0m\u001b[0m\n\u001b[0m\u001b[0;32m    711\u001b[0m \u001b[1;33m\u001b[0m\u001b[0m\n\u001b[0;32m    712\u001b[0m     \u001b[1;32mdef\u001b[0m \u001b[0mfind_element\u001b[0m\u001b[1;33m(\u001b[0m\u001b[0mself\u001b[0m\u001b[1;33m,\u001b[0m \u001b[0mby\u001b[0m\u001b[1;33m=\u001b[0m\u001b[0mBy\u001b[0m\u001b[1;33m.\u001b[0m\u001b[0mID\u001b[0m\u001b[1;33m,\u001b[0m \u001b[0mvalue\u001b[0m\u001b[1;33m=\u001b[0m\u001b[1;32mNone\u001b[0m\u001b[1;33m)\u001b[0m\u001b[1;33m:\u001b[0m\u001b[1;33m\u001b[0m\u001b[1;33m\u001b[0m\u001b[0m\n",
      "\u001b[1;32mc:\\Users\\Leonardo Plaza\\AppData\\Local\\Programs\\Python\\Python39\\lib\\site-packages\\selenium\\webdriver\\remote\\webdriver.py\u001b[0m in \u001b[0;36mexecute\u001b[1;34m(self, driver_command, params)\u001b[0m\n\u001b[0;32m    422\u001b[0m         \u001b[0mresponse\u001b[0m \u001b[1;33m=\u001b[0m \u001b[0mself\u001b[0m\u001b[1;33m.\u001b[0m\u001b[0mcommand_executor\u001b[0m\u001b[1;33m.\u001b[0m\u001b[0mexecute\u001b[0m\u001b[1;33m(\u001b[0m\u001b[0mdriver_command\u001b[0m\u001b[1;33m,\u001b[0m \u001b[0mparams\u001b[0m\u001b[1;33m)\u001b[0m\u001b[1;33m\u001b[0m\u001b[1;33m\u001b[0m\u001b[0m\n\u001b[0;32m    423\u001b[0m         \u001b[1;32mif\u001b[0m \u001b[0mresponse\u001b[0m\u001b[1;33m:\u001b[0m\u001b[1;33m\u001b[0m\u001b[1;33m\u001b[0m\u001b[0m\n\u001b[1;32m--> 424\u001b[1;33m             \u001b[0mself\u001b[0m\u001b[1;33m.\u001b[0m\u001b[0merror_handler\u001b[0m\u001b[1;33m.\u001b[0m\u001b[0mcheck_response\u001b[0m\u001b[1;33m(\u001b[0m\u001b[0mresponse\u001b[0m\u001b[1;33m)\u001b[0m\u001b[1;33m\u001b[0m\u001b[1;33m\u001b[0m\u001b[0m\n\u001b[0m\u001b[0;32m    425\u001b[0m             response['value'] = self._unwrap_value(\n\u001b[0;32m    426\u001b[0m                 response.get('value', None))\n",
      "\u001b[1;32mc:\\Users\\Leonardo Plaza\\AppData\\Local\\Programs\\Python\\Python39\\lib\\site-packages\\selenium\\webdriver\\remote\\errorhandler.py\u001b[0m in \u001b[0;36mcheck_response\u001b[1;34m(self, response)\u001b[0m\n\u001b[0;32m    245\u001b[0m                 \u001b[0malert_text\u001b[0m \u001b[1;33m=\u001b[0m \u001b[0mvalue\u001b[0m\u001b[1;33m[\u001b[0m\u001b[1;34m'alert'\u001b[0m\u001b[1;33m]\u001b[0m\u001b[1;33m.\u001b[0m\u001b[0mget\u001b[0m\u001b[1;33m(\u001b[0m\u001b[1;34m'text'\u001b[0m\u001b[1;33m)\u001b[0m\u001b[1;33m\u001b[0m\u001b[1;33m\u001b[0m\u001b[0m\n\u001b[0;32m    246\u001b[0m             \u001b[1;32mraise\u001b[0m \u001b[0mexception_class\u001b[0m\u001b[1;33m(\u001b[0m\u001b[0mmessage\u001b[0m\u001b[1;33m,\u001b[0m \u001b[0mscreen\u001b[0m\u001b[1;33m,\u001b[0m \u001b[0mstacktrace\u001b[0m\u001b[1;33m,\u001b[0m \u001b[0malert_text\u001b[0m\u001b[1;33m)\u001b[0m  \u001b[1;31m# type: ignore[call-arg]  # mypy is not smart enough here\u001b[0m\u001b[1;33m\u001b[0m\u001b[1;33m\u001b[0m\u001b[0m\n\u001b[1;32m--> 247\u001b[1;33m         \u001b[1;32mraise\u001b[0m \u001b[0mexception_class\u001b[0m\u001b[1;33m(\u001b[0m\u001b[0mmessage\u001b[0m\u001b[1;33m,\u001b[0m \u001b[0mscreen\u001b[0m\u001b[1;33m,\u001b[0m \u001b[0mstacktrace\u001b[0m\u001b[1;33m)\u001b[0m\u001b[1;33m\u001b[0m\u001b[1;33m\u001b[0m\u001b[0m\n\u001b[0m\u001b[0;32m    248\u001b[0m \u001b[1;33m\u001b[0m\u001b[0m\n\u001b[0;32m    249\u001b[0m     \u001b[1;32mdef\u001b[0m \u001b[0m_value_or_default\u001b[0m\u001b[1;33m(\u001b[0m\u001b[0mself\u001b[0m\u001b[1;33m,\u001b[0m \u001b[0mobj\u001b[0m\u001b[1;33m:\u001b[0m \u001b[0mMapping\u001b[0m\u001b[1;33m[\u001b[0m\u001b[0m_KT\u001b[0m\u001b[1;33m,\u001b[0m \u001b[0m_VT\u001b[0m\u001b[1;33m]\u001b[0m\u001b[1;33m,\u001b[0m \u001b[0mkey\u001b[0m\u001b[1;33m:\u001b[0m \u001b[0m_KT\u001b[0m\u001b[1;33m,\u001b[0m \u001b[0mdefault\u001b[0m\u001b[1;33m:\u001b[0m \u001b[0m_VT\u001b[0m\u001b[1;33m)\u001b[0m \u001b[1;33m->\u001b[0m \u001b[0m_VT\u001b[0m\u001b[1;33m:\u001b[0m\u001b[1;33m\u001b[0m\u001b[1;33m\u001b[0m\u001b[0m\n",
      "\u001b[1;31mStaleElementReferenceException\u001b[0m: Message: stale element reference: element is not attached to the page document\n  (Session info: chrome=108.0.5359.125)\nStacktrace:\nBacktrace:\n\t(No symbol) [0x00BAF243]\n\t(No symbol) [0x00B37FD1]\n\t(No symbol) [0x00A2D04D]\n\t(No symbol) [0x00A2FD34]\n\t(No symbol) [0x00A2FBE5]\n\t(No symbol) [0x00A2FE80]\n\t(No symbol) [0x00A5BD55]\n\t(No symbol) [0x00A5C22B]\n\t(No symbol) [0x00A52CA1]\n\t(No symbol) [0x00A785D4]\n\t(No symbol) [0x00A52BFF]\n\t(No symbol) [0x00A78804]\n\t(No symbol) [0x00A8C9EB]\n\t(No symbol) [0x00A78386]\n\t(No symbol) [0x00A5163C]\n\t(No symbol) [0x00A5269D]\n\tGetHandleVerifier [0x00E49A22+2655074]\n\tGetHandleVerifier [0x00E3CA24+2601828]\n\tGetHandleVerifier [0x00C58C0A+619850]\n\tGetHandleVerifier [0x00C57830+614768]\n\t(No symbol) [0x00B405FC]\n\t(No symbol) [0x00B45968]\n\t(No symbol) [0x00B45A55]\n\t(No symbol) [0x00B5051B]\n\tBaseThreadInitThunk [0x774200F9+25]\n\tRtlGetAppContainerNamedObjectPath [0x77AD7BBE+286]\n\tRtlGetAppContainerNamedObjectPath [0x77AD7B8E+238]\n"
     ]
    }
   ],
   "source": [
    "login()"
   ]
  },
  {
   "cell_type": "code",
   "execution_count": 63,
   "metadata": {},
   "outputs": [],
   "source": [
    "driver.get('https://www.linkedin.com/mynetwork/invite-connect/connections/')"
   ]
  },
  {
   "cell_type": "code",
   "execution_count": 64,
   "metadata": {},
   "outputs": [],
   "source": [
    "filter_button = driver.find_element(By.LINK_TEXT, 'Search with filters')\n",
    "filter_button.click()\n",
    "time.sleep(2)\n",
    "locations_button = driver.find_element(By.XPATH, '//button[text()=\"Locations\"]')\n",
    "locations_button.click()\n",
    "time.sleep(2)\n",
    "add_location = driver.find_element(By.XPATH, '//input[@placeholder=\"Add a location\"]')\n",
    "add_location.click()\n",
    "time.sleep(2)\n",
    "add_location.send_keys('australia', Keys.ARROW_DOWN, Keys.ENTER)\n",
    "time.sleep(1)\n",
    "add_location.send_keys(Keys.ARROW_DOWN)\n",
    "time.sleep(1)\n",
    "add_location.send_keys(Keys.ENTER)\n",
    "time.sleep(1)\n",
    "show_results = driver.find_element(By.CLASS_NAME, \"scaffold-layout-toolbar\")\n",
    "show_results.click()"
   ]
  },
  {
   "cell_type": "code",
   "execution_count": 50,
   "metadata": {},
   "outputs": [
    {
     "name": "stdout",
     "output_type": "stream",
     "text": [
      "1\n"
     ]
    }
   ],
   "source": [
    "try:\n",
    "    page_numbers = driver.find_elements(By.CLASS_NAME, 'artdeco-pagination__indicator')\n",
    "    try:\n",
    "        real_page_numbers = int(page_numbers[9].text)\n",
    "    except:\n",
    "        real_page_numbers = int(page_numbers[-1].text)\n",
    "    time.sleep(2)\n",
    "except:\n",
    "    page_numbers = 1\n",
    "\n",
    "print(page_numbers)"
   ]
  },
  {
   "cell_type": "code",
   "execution_count": 72,
   "metadata": {},
   "outputs": [
    {
     "name": "stdout",
     "output_type": "stream",
     "text": [
      "\n",
      "https://www.linkedin.com/in/leonardo-d%C3%ADaz-deramond-319a1b7\n",
      "Leonardo\n",
      "https://www.linkedin.com/in/nathalia-perdomo-5180aa26\n",
      "Nathalia\n",
      "https://www.linkedin.com/in/george-vaskovics-b2001329\n",
      "George\n",
      "https://www.linkedin.com/in/qaiums\n",
      "Qaium\n"
     ]
    }
   ],
   "source": [
    "def find_connections():\n",
    "    contacts = driver.find_element(By.CLASS_NAME, 'reusable-search__entity-result-list')\n",
    "    contact_li = contacts.find_elements(By.TAG_NAME, 'li')\n",
    "    return contact_li\n",
    "\n",
    "print()\n",
    "contact_li = find_connections() \n",
    "\n",
    "# going through all contacts in every page\n",
    "for contact in contact_li:\n",
    "    #print(contact)\n",
    "    contact_link = contact.find_element(By.TAG_NAME, 'a').get_attribute('href')\n",
    "    print(contact_link)\n",
    "    time.sleep(1)\n",
    "    user_name_container = contact.find_element(By.CLASS_NAME, 'entity-result__title-text').text\n",
    "    space_index = user_name_container.find(\" \")\n",
    "    if space_index != -1:\n",
    "        user_name = user_name_container[:space_index]\n",
    "        print(user_name_container[:space_index])\n",
    "    else:\n",
    "        # If no space was found, print the entire string\n",
    "        print(user_name)\n",
    "        user_name = ''\n",
    "    message_button = contact.find_element(By.TAG_NAME, 'button')\n",
    "    #df.loc[contact, 'linkedinId'] = contact_link.get_attribute('href')\n",
    "    #df.to_excel(dataLocation, index=False)\n",
    "    time.sleep(2)\n",
    "    message_button.click()\n",
    "    time.sleep(2)\n",
    "    message_box_container = driver.find_element(By.CLASS_NAME, 'msg-form__contenteditable')\n",
    "    message_box_container.click()\n",
    "    time.sleep(2) \n",
    "    message = 'sddkasjdlkjdn'\n",
    "    message_box_container.send_keys(f'Hello {user_name} \\n\\n {message}')\n",
    "    \"\"\" time.sleep(2)\n",
    "    send_button = driver.find_element(By.XPATH, '//button[text()=\"Send\"]')\n",
    "    send_button.click() \"\"\"\n",
    "    time.sleep(3)\n",
    "    message_box_container.send_keys(Keys.ESCAPE)\n",
    "    time.sleep(2)\n",
    "    discard_container = driver.find_elements(By.TAG_NAME, 'button')\n",
    "    time.sleep(1)\n",
    "    discard_container[2].click()"
   ]
  },
  {
   "cell_type": "code",
   "execution_count": 71,
   "metadata": {},
   "outputs": [],
   "source": [
    "discard_container = driver.find_elements(By.TAG_NAME, 'button')\n",
    "time.sleep(1)\n",
    "discard_container[2].click()"
   ]
  },
  {
   "cell_type": "code",
   "execution_count": 58,
   "metadata": {},
   "outputs": [
    {
     "name": "stdout",
     "output_type": "stream",
     "text": [
      "true\n"
     ]
    }
   ],
   "source": [
    "page_number = 1\n",
    "\n",
    "if page_number == 1:\n",
    "    print('true')"
   ]
  },
  {
   "cell_type": "code",
   "execution_count": 8,
   "metadata": {},
   "outputs": [
    {
     "name": "stdout",
     "output_type": "stream",
     "text": [
      "Gustavo\n"
     ]
    }
   ],
   "source": [
    "user_name = driver.find_element(By.CLASS_NAME, 'entity-result__title-text').text\n",
    "space_index = user_name.find(\" \")\n",
    "if space_index != -1:\n",
    "  print(user_name[:space_index])\n",
    "else:\n",
    "  # If no space was found, print the entire string\n",
    "  print(user_name)\n"
   ]
  },
  {
   "cell_type": "code",
   "execution_count": 9,
   "metadata": {},
   "outputs": [],
   "source": [
    "start_page = 1\n",
    "end_page = 2\n"
   ]
  },
  {
   "cell_type": "code",
   "execution_count": 31,
   "metadata": {},
   "outputs": [
    {
     "name": "stdout",
     "output_type": "stream",
     "text": [
      "9\n"
     ]
    }
   ],
   "source": [
    "page_numbers = driver.find_elements(By.CLASS_NAME, 'artdeco-pagination__indicator')\n",
    "try:\n",
    "    real_page_numbers = int(page_numbers[9].text)\n",
    "except:\n",
    "    real_page_numbers = int(page_numbers[-1].text)\n",
    "print(real_page_numbers)\n",
    "\n"
   ]
  },
  {
   "cell_type": "code",
   "execution_count": 32,
   "metadata": {},
   "outputs": [],
   "source": [
    "page_numbers[int(start_page)-1].click()"
   ]
  },
  {
   "cell_type": "code",
   "execution_count": 33,
   "metadata": {},
   "outputs": [
    {
     "name": "stdout",
     "output_type": "stream",
     "text": [
      "ciclo\n",
      "ciclo\n",
      "ciclo\n",
      "ciclo\n",
      "ciclo\n",
      "ciclo\n"
     ]
    }
   ],
   "source": [
    "for contact in range(int(start_page), int(end_page)):\n",
    "    print('ciclo')\n",
    "    time.sleep(1)\n",
    "    height = driver.execute_script(\"return document.documentElement.scrollHeight\")\n",
    "    driver.execute_script(\"window.scrollTo(0, \" + str(height) + \");\")\n",
    "    time.sleep(1)\n",
    "    next_button = driver.find_element(By.XPATH, '//button[@aria-label=\"Next\"]')\n",
    "    next_button.click()\n",
    "    time.sleep(1)"
   ]
  },
  {
   "cell_type": "code",
   "execution_count": null,
   "metadata": {},
   "outputs": [],
   "source": []
  },
  {
   "cell_type": "code",
   "execution_count": 10,
   "metadata": {},
   "outputs": [
    {
     "name": "stdout",
     "output_type": "stream",
     "text": [
      "10\n"
     ]
    }
   ],
   "source": [
    "contacts = driver.find_element(By.CLASS_NAME, 'reusable-search__entity-result-list')\n",
    "contact_li = contacts.find_elements(By.TAG_NAME, 'li')\n",
    "print(len(contact_li))"
   ]
  },
  {
   "cell_type": "code",
   "execution_count": 20,
   "metadata": {},
   "outputs": [
    {
     "name": "stdout",
     "output_type": "stream",
     "text": [
      "https://www.linkedin.com/in/gustavoarciniegas\n",
      "Gustavo\n",
      "https://www.linkedin.com/in/nelsonbarrera\n",
      "Nelson\n",
      "https://www.linkedin.com/in/wilsongomez\n",
      "Wilson\n",
      "https://www.linkedin.com/in/andres-maya-05746251\n"
     ]
    },
    {
     "ename": "KeyboardInterrupt",
     "evalue": "",
     "output_type": "error",
     "traceback": [
      "\u001b[1;31m---------------------------------------------------------------------------\u001b[0m",
      "\u001b[1;31mKeyboardInterrupt\u001b[0m                         Traceback (most recent call last)",
      "\u001b[1;32mC:\\Users\\LEONAR~1\\AppData\\Local\\Temp/ipykernel_11172/1904838786.py\u001b[0m in \u001b[0;36m<module>\u001b[1;34m\u001b[0m\n\u001b[0;32m      3\u001b[0m     \u001b[0mcontact_link\u001b[0m \u001b[1;33m=\u001b[0m \u001b[0mcontact\u001b[0m\u001b[1;33m.\u001b[0m\u001b[0mfind_element\u001b[0m\u001b[1;33m(\u001b[0m\u001b[0mBy\u001b[0m\u001b[1;33m.\u001b[0m\u001b[0mTAG_NAME\u001b[0m\u001b[1;33m,\u001b[0m \u001b[1;34m'a'\u001b[0m\u001b[1;33m)\u001b[0m\u001b[1;33m.\u001b[0m\u001b[0mget_attribute\u001b[0m\u001b[1;33m(\u001b[0m\u001b[1;34m'href'\u001b[0m\u001b[1;33m)\u001b[0m\u001b[1;33m\u001b[0m\u001b[1;33m\u001b[0m\u001b[0m\n\u001b[0;32m      4\u001b[0m     \u001b[0mprint\u001b[0m\u001b[1;33m(\u001b[0m\u001b[0mcontact_link\u001b[0m\u001b[1;33m)\u001b[0m\u001b[1;33m\u001b[0m\u001b[1;33m\u001b[0m\u001b[0m\n\u001b[1;32m----> 5\u001b[1;33m     \u001b[0mtime\u001b[0m\u001b[1;33m.\u001b[0m\u001b[0msleep\u001b[0m\u001b[1;33m(\u001b[0m\u001b[1;36m1\u001b[0m\u001b[1;33m)\u001b[0m\u001b[1;33m\u001b[0m\u001b[1;33m\u001b[0m\u001b[0m\n\u001b[0m\u001b[0;32m      6\u001b[0m     \u001b[0muser_name_container\u001b[0m \u001b[1;33m=\u001b[0m \u001b[0mcontact\u001b[0m\u001b[1;33m.\u001b[0m\u001b[0mfind_element\u001b[0m\u001b[1;33m(\u001b[0m\u001b[0mBy\u001b[0m\u001b[1;33m.\u001b[0m\u001b[0mCLASS_NAME\u001b[0m\u001b[1;33m,\u001b[0m \u001b[1;34m'entity-result__title-text'\u001b[0m\u001b[1;33m)\u001b[0m\u001b[1;33m.\u001b[0m\u001b[0mtext\u001b[0m\u001b[1;33m\u001b[0m\u001b[1;33m\u001b[0m\u001b[0m\n\u001b[0;32m      7\u001b[0m     \u001b[0mspace_index\u001b[0m \u001b[1;33m=\u001b[0m \u001b[0muser_name_container\u001b[0m\u001b[1;33m.\u001b[0m\u001b[0mfind\u001b[0m\u001b[1;33m(\u001b[0m\u001b[1;34m\" \"\u001b[0m\u001b[1;33m)\u001b[0m\u001b[1;33m\u001b[0m\u001b[1;33m\u001b[0m\u001b[0m\n",
      "\u001b[1;31mKeyboardInterrupt\u001b[0m: "
     ]
    }
   ],
   "source": [
    "for contact in contact_li:\n",
    "    #print(contact)\n",
    "    contact_link = contact.find_element(By.TAG_NAME, 'a').get_attribute('href')\n",
    "    print(contact_link)\n",
    "    time.sleep(1)\n",
    "    user_name_container = contact.find_element(By.CLASS_NAME, 'entity-result__title-text').text\n",
    "    space_index = user_name_container.find(\" \")\n",
    "    if space_index != -1:\n",
    "        user_name = user_name_container[:space_index]\n",
    "        print(user_name_container[:space_index])\n",
    "    else:\n",
    "        # If no space was found, print the entire string\n",
    "        print(user_name)\n",
    "        user_name = ''\n",
    "    message_button = contact.find_element(By.TAG_NAME, 'button')\n",
    "    #df.loc[contact, 'linkedinId'] = contact_link.get_attribute('href')\n",
    "    #df.to_excel(dataLocation, index=False)\n",
    "    time.sleep(2)\n",
    "    message_button.click()\n",
    "    time.sleep(2)\n",
    "    message_box_container = driver.find_element(By.CLASS_NAME, 'msg-form__contenteditable')\n",
    "    message_box_container.click()\n",
    "    time.sleep(2)\n",
    "    message = 'this is a message'\n",
    "    message_box_container.send_keys(f'Hello {user_name} \\n\\n {message}')\n",
    "    time.sleep(2)\n",
    "    \"\"\" send_button = driver.find_element(By.XPATH, '//button[text()=\"Send\"]')\n",
    "    send_button.click()\n",
    "    time.sleep(3) \"\"\"\n",
    "    message_box_container.send_keys(Keys.ESCAPE)\n",
    "    time.sleep(2)"
   ]
  },
  {
   "cell_type": "code",
   "execution_count": 67,
   "metadata": {},
   "outputs": [
    {
     "ename": "NoSuchElementException",
     "evalue": "Message: no such element: Unable to locate element: {\"method\":\"xpath\",\"selector\":\"//span[contains(text(), \"Discard\")]\"}\n  (Session info: chrome=108.0.5359.125)\nStacktrace:\nBacktrace:\n\t(No symbol) [0x00BAF243]\n\t(No symbol) [0x00B37FD1]\n\t(No symbol) [0x00A2D04D]\n\t(No symbol) [0x00A5C0B0]\n\t(No symbol) [0x00A5C22B]\n\t(No symbol) [0x00A8E612]\n\t(No symbol) [0x00A785D4]\n\t(No symbol) [0x00A8C9EB]\n\t(No symbol) [0x00A78386]\n\t(No symbol) [0x00A5163C]\n\t(No symbol) [0x00A5269D]\n\tGetHandleVerifier [0x00E49A22+2655074]\n\tGetHandleVerifier [0x00E3CA24+2601828]\n\tGetHandleVerifier [0x00C58C0A+619850]\n\tGetHandleVerifier [0x00C57830+614768]\n\t(No symbol) [0x00B405FC]\n\t(No symbol) [0x00B45968]\n\t(No symbol) [0x00B45A55]\n\t(No symbol) [0x00B5051B]\n\tBaseThreadInitThunk [0x774200F9+25]\n\tRtlGetAppContainerNamedObjectPath [0x77AD7BBE+286]\n\tRtlGetAppContainerNamedObjectPath [0x77AD7B8E+238]\n",
     "output_type": "error",
     "traceback": [
      "\u001b[1;31m---------------------------------------------------------------------------\u001b[0m",
      "\u001b[1;31mNoSuchElementException\u001b[0m                    Traceback (most recent call last)",
      "\u001b[1;32mC:\\Users\\LEONAR~1\\AppData\\Local\\Temp/ipykernel_11672/508445599.py\u001b[0m in \u001b[0;36m<module>\u001b[1;34m\u001b[0m\n\u001b[1;32m----> 1\u001b[1;33m \u001b[0mdiscard_container\u001b[0m \u001b[1;33m=\u001b[0m \u001b[0mdriver\u001b[0m\u001b[1;33m.\u001b[0m\u001b[0mfind_element\u001b[0m\u001b[1;33m(\u001b[0m\u001b[0mBy\u001b[0m\u001b[1;33m.\u001b[0m\u001b[0mXPATH\u001b[0m\u001b[1;33m,\u001b[0m \u001b[1;34m'//span[contains(text(), \"Discard\")]'\u001b[0m\u001b[1;33m)\u001b[0m\u001b[1;33m\u001b[0m\u001b[1;33m\u001b[0m\u001b[0m\n\u001b[0m\u001b[0;32m      2\u001b[0m \u001b[0mtime\u001b[0m\u001b[1;33m.\u001b[0m\u001b[0msleep\u001b[0m\u001b[1;33m(\u001b[0m\u001b[1;36m1\u001b[0m\u001b[1;33m)\u001b[0m\u001b[1;33m\u001b[0m\u001b[1;33m\u001b[0m\u001b[0m\n\u001b[0;32m      3\u001b[0m \u001b[0mdiscard_container\u001b[0m\u001b[1;33m.\u001b[0m\u001b[0mclick\u001b[0m\u001b[1;33m(\u001b[0m\u001b[1;33m)\u001b[0m\u001b[1;33m\u001b[0m\u001b[1;33m\u001b[0m\u001b[0m\n",
      "\u001b[1;32mc:\\Users\\Leonardo Plaza\\AppData\\Local\\Programs\\Python\\Python39\\lib\\site-packages\\selenium\\webdriver\\remote\\webdriver.py\u001b[0m in \u001b[0;36mfind_element\u001b[1;34m(self, by, value)\u001b[0m\n\u001b[0;32m   1242\u001b[0m             \u001b[0mvalue\u001b[0m \u001b[1;33m=\u001b[0m \u001b[1;34m'[name=\"%s\"]'\u001b[0m \u001b[1;33m%\u001b[0m \u001b[0mvalue\u001b[0m\u001b[1;33m\u001b[0m\u001b[1;33m\u001b[0m\u001b[0m\n\u001b[0;32m   1243\u001b[0m \u001b[1;33m\u001b[0m\u001b[0m\n\u001b[1;32m-> 1244\u001b[1;33m         return self.execute(Command.FIND_ELEMENT, {\n\u001b[0m\u001b[0;32m   1245\u001b[0m             \u001b[1;34m'using'\u001b[0m\u001b[1;33m:\u001b[0m \u001b[0mby\u001b[0m\u001b[1;33m,\u001b[0m\u001b[1;33m\u001b[0m\u001b[1;33m\u001b[0m\u001b[0m\n\u001b[0;32m   1246\u001b[0m             'value': value})['value']\n",
      "\u001b[1;32mc:\\Users\\Leonardo Plaza\\AppData\\Local\\Programs\\Python\\Python39\\lib\\site-packages\\selenium\\webdriver\\remote\\webdriver.py\u001b[0m in \u001b[0;36mexecute\u001b[1;34m(self, driver_command, params)\u001b[0m\n\u001b[0;32m    422\u001b[0m         \u001b[0mresponse\u001b[0m \u001b[1;33m=\u001b[0m \u001b[0mself\u001b[0m\u001b[1;33m.\u001b[0m\u001b[0mcommand_executor\u001b[0m\u001b[1;33m.\u001b[0m\u001b[0mexecute\u001b[0m\u001b[1;33m(\u001b[0m\u001b[0mdriver_command\u001b[0m\u001b[1;33m,\u001b[0m \u001b[0mparams\u001b[0m\u001b[1;33m)\u001b[0m\u001b[1;33m\u001b[0m\u001b[1;33m\u001b[0m\u001b[0m\n\u001b[0;32m    423\u001b[0m         \u001b[1;32mif\u001b[0m \u001b[0mresponse\u001b[0m\u001b[1;33m:\u001b[0m\u001b[1;33m\u001b[0m\u001b[1;33m\u001b[0m\u001b[0m\n\u001b[1;32m--> 424\u001b[1;33m             \u001b[0mself\u001b[0m\u001b[1;33m.\u001b[0m\u001b[0merror_handler\u001b[0m\u001b[1;33m.\u001b[0m\u001b[0mcheck_response\u001b[0m\u001b[1;33m(\u001b[0m\u001b[0mresponse\u001b[0m\u001b[1;33m)\u001b[0m\u001b[1;33m\u001b[0m\u001b[1;33m\u001b[0m\u001b[0m\n\u001b[0m\u001b[0;32m    425\u001b[0m             response['value'] = self._unwrap_value(\n\u001b[0;32m    426\u001b[0m                 response.get('value', None))\n",
      "\u001b[1;32mc:\\Users\\Leonardo Plaza\\AppData\\Local\\Programs\\Python\\Python39\\lib\\site-packages\\selenium\\webdriver\\remote\\errorhandler.py\u001b[0m in \u001b[0;36mcheck_response\u001b[1;34m(self, response)\u001b[0m\n\u001b[0;32m    245\u001b[0m                 \u001b[0malert_text\u001b[0m \u001b[1;33m=\u001b[0m \u001b[0mvalue\u001b[0m\u001b[1;33m[\u001b[0m\u001b[1;34m'alert'\u001b[0m\u001b[1;33m]\u001b[0m\u001b[1;33m.\u001b[0m\u001b[0mget\u001b[0m\u001b[1;33m(\u001b[0m\u001b[1;34m'text'\u001b[0m\u001b[1;33m)\u001b[0m\u001b[1;33m\u001b[0m\u001b[1;33m\u001b[0m\u001b[0m\n\u001b[0;32m    246\u001b[0m             \u001b[1;32mraise\u001b[0m \u001b[0mexception_class\u001b[0m\u001b[1;33m(\u001b[0m\u001b[0mmessage\u001b[0m\u001b[1;33m,\u001b[0m \u001b[0mscreen\u001b[0m\u001b[1;33m,\u001b[0m \u001b[0mstacktrace\u001b[0m\u001b[1;33m,\u001b[0m \u001b[0malert_text\u001b[0m\u001b[1;33m)\u001b[0m  \u001b[1;31m# type: ignore[call-arg]  # mypy is not smart enough here\u001b[0m\u001b[1;33m\u001b[0m\u001b[1;33m\u001b[0m\u001b[0m\n\u001b[1;32m--> 247\u001b[1;33m         \u001b[1;32mraise\u001b[0m \u001b[0mexception_class\u001b[0m\u001b[1;33m(\u001b[0m\u001b[0mmessage\u001b[0m\u001b[1;33m,\u001b[0m \u001b[0mscreen\u001b[0m\u001b[1;33m,\u001b[0m \u001b[0mstacktrace\u001b[0m\u001b[1;33m)\u001b[0m\u001b[1;33m\u001b[0m\u001b[1;33m\u001b[0m\u001b[0m\n\u001b[0m\u001b[0;32m    248\u001b[0m \u001b[1;33m\u001b[0m\u001b[0m\n\u001b[0;32m    249\u001b[0m     \u001b[1;32mdef\u001b[0m \u001b[0m_value_or_default\u001b[0m\u001b[1;33m(\u001b[0m\u001b[0mself\u001b[0m\u001b[1;33m,\u001b[0m \u001b[0mobj\u001b[0m\u001b[1;33m:\u001b[0m \u001b[0mMapping\u001b[0m\u001b[1;33m[\u001b[0m\u001b[0m_KT\u001b[0m\u001b[1;33m,\u001b[0m \u001b[0m_VT\u001b[0m\u001b[1;33m]\u001b[0m\u001b[1;33m,\u001b[0m \u001b[0mkey\u001b[0m\u001b[1;33m:\u001b[0m \u001b[0m_KT\u001b[0m\u001b[1;33m,\u001b[0m \u001b[0mdefault\u001b[0m\u001b[1;33m:\u001b[0m \u001b[0m_VT\u001b[0m\u001b[1;33m)\u001b[0m \u001b[1;33m->\u001b[0m \u001b[0m_VT\u001b[0m\u001b[1;33m:\u001b[0m\u001b[1;33m\u001b[0m\u001b[1;33m\u001b[0m\u001b[0m\n",
      "\u001b[1;31mNoSuchElementException\u001b[0m: Message: no such element: Unable to locate element: {\"method\":\"xpath\",\"selector\":\"//span[contains(text(), \"Discard\")]\"}\n  (Session info: chrome=108.0.5359.125)\nStacktrace:\nBacktrace:\n\t(No symbol) [0x00BAF243]\n\t(No symbol) [0x00B37FD1]\n\t(No symbol) [0x00A2D04D]\n\t(No symbol) [0x00A5C0B0]\n\t(No symbol) [0x00A5C22B]\n\t(No symbol) [0x00A8E612]\n\t(No symbol) [0x00A785D4]\n\t(No symbol) [0x00A8C9EB]\n\t(No symbol) [0x00A78386]\n\t(No symbol) [0x00A5163C]\n\t(No symbol) [0x00A5269D]\n\tGetHandleVerifier [0x00E49A22+2655074]\n\tGetHandleVerifier [0x00E3CA24+2601828]\n\tGetHandleVerifier [0x00C58C0A+619850]\n\tGetHandleVerifier [0x00C57830+614768]\n\t(No symbol) [0x00B405FC]\n\t(No symbol) [0x00B45968]\n\t(No symbol) [0x00B45A55]\n\t(No symbol) [0x00B5051B]\n\tBaseThreadInitThunk [0x774200F9+25]\n\tRtlGetAppContainerNamedObjectPath [0x77AD7BBE+286]\n\tRtlGetAppContainerNamedObjectPath [0x77AD7B8E+238]\n"
     ]
    }
   ],
   "source": []
  },
  {
   "cell_type": "code",
   "execution_count": null,
   "metadata": {},
   "outputs": [],
   "source": []
  },
  {
   "cell_type": "code",
   "execution_count": 101,
   "metadata": {},
   "outputs": [
    {
     "name": "stdout",
     "output_type": "stream",
     "text": [
      "los contactos son 10\n"
     ]
    }
   ],
   "source": [
    "contacts = driver.find_elements(By.CLASS_NAME, 'reusable-search__result-container')\n",
    "print(\"los contactos son\", len(contacts))"
   ]
  },
  {
   "cell_type": "code",
   "execution_count": 104,
   "metadata": {},
   "outputs": [
    {
     "name": "stdout",
     "output_type": "stream",
     "text": [
      "<selenium.webdriver.remote.webelement.WebElement (session=\"486ca593f712d3d5827b2f1fe4b27407\", element=\"6f199497-8382-4df4-ae26-922fa9278c1b\")>\n",
      "https://www.linkedin.com/in/gustavoarciniegas\n"
     ]
    },
    {
     "ename": "TypeError",
     "evalue": "'WebElement' object is not subscriptable",
     "output_type": "error",
     "traceback": [
      "\u001b[1;31m---------------------------------------------------------------------------\u001b[0m",
      "\u001b[1;31mTypeError\u001b[0m                                 Traceback (most recent call last)",
      "\u001b[1;32mC:\\Users\\LEONAR~1\\AppData\\Local\\Temp/ipykernel_8216/917254608.py\u001b[0m in \u001b[0;36m<module>\u001b[1;34m\u001b[0m\n\u001b[0;32m      8\u001b[0m     \u001b[1;31m#df.to_excel(dataLocation, index=False)\u001b[0m\u001b[1;33m\u001b[0m\u001b[1;33m\u001b[0m\u001b[1;33m\u001b[0m\u001b[0m\n\u001b[0;32m      9\u001b[0m     \u001b[0mtime\u001b[0m\u001b[1;33m.\u001b[0m\u001b[0msleep\u001b[0m\u001b[1;33m(\u001b[0m\u001b[1;36m2\u001b[0m\u001b[1;33m)\u001b[0m\u001b[1;33m\u001b[0m\u001b[1;33m\u001b[0m\u001b[0m\n\u001b[1;32m---> 10\u001b[1;33m     \u001b[0mmessage_button\u001b[0m\u001b[1;33m[\u001b[0m\u001b[0mcontact\u001b[0m\u001b[1;33m]\u001b[0m\u001b[1;33m.\u001b[0m\u001b[0mclick\u001b[0m\u001b[1;33m(\u001b[0m\u001b[1;33m)\u001b[0m\u001b[1;33m\u001b[0m\u001b[1;33m\u001b[0m\u001b[0m\n\u001b[0m\u001b[0;32m     11\u001b[0m     \u001b[0mtime\u001b[0m\u001b[1;33m.\u001b[0m\u001b[0msleep\u001b[0m\u001b[1;33m(\u001b[0m\u001b[1;36m2\u001b[0m\u001b[1;33m)\u001b[0m\u001b[1;33m\u001b[0m\u001b[1;33m\u001b[0m\u001b[0m\n\u001b[0;32m     12\u001b[0m     \u001b[0mmessage_box_container\u001b[0m \u001b[1;33m=\u001b[0m \u001b[0mdriver\u001b[0m\u001b[1;33m.\u001b[0m\u001b[0mfind_element\u001b[0m\u001b[1;33m(\u001b[0m\u001b[0mBy\u001b[0m\u001b[1;33m.\u001b[0m\u001b[0mCLASS_NAME\u001b[0m\u001b[1;33m,\u001b[0m \u001b[1;34m'msg-form__contenteditable'\u001b[0m\u001b[1;33m)\u001b[0m\u001b[1;33m\u001b[0m\u001b[1;33m\u001b[0m\u001b[0m\n",
      "\u001b[1;31mTypeError\u001b[0m: 'WebElement' object is not subscriptable"
     ]
    }
   ],
   "source": [
    "for contact in contacts:\n",
    "    print(contact)\n",
    "    contact_link = contact.find_element(By.TAG_NAME, 'a').get_attribute('href')\n",
    "    print(contact_link)\n",
    "    time.sleep(1)\n",
    "    message_button = contact.find_element(By.XPATH, '//span[text()=\"Message\"]')\n",
    "    #df.loc[contact, 'linkedinId'] = contact_link.get_attribute('href')\n",
    "    #df.to_excel(dataLocation, index=False)\n",
    "    time.sleep(2)\n",
    "    message_button.click()\n",
    "    time.sleep(2)\n",
    "    message_box_container = driver.find_element(By.CLASS_NAME, 'msg-form__contenteditable')\n",
    "    message_box_container.click()\n",
    "    time.sleep(2)\n",
    "    \"\"\" message_box_container.send_keys('this is a message')\n",
    "    time.sleep(2)\n",
    "    send_button = driver.find_element(By.XPATH, '//button[text()=\"Send\"]')\n",
    "    send_button.click()\n",
    "    time.sleep(3) \"\"\"\n",
    "    message_box_container.send_keys(Keys.ESCAPE)\n",
    "    time.sleep(2)"
   ]
  },
  {
   "cell_type": "code",
   "execution_count": null,
   "metadata": {},
   "outputs": [],
   "source": [
    "//*[@id=\"msg-form-ember672\"]/div[2]/div/div[1]/div[1]/p"
   ]
  },
  {
   "cell_type": "code",
   "execution_count": 2,
   "metadata": {},
   "outputs": [
    {
     "name": "stderr",
     "output_type": "stream",
     "text": [
      "C:\\Users\\LEONAR~1\\AppData\\Local\\Temp/ipykernel_4712/3384525417.py:1: DeprecationWarning: executable_path has been deprecated, please pass in a Service object\n",
      "  driver = webdriver.Chrome('chromedriver.exe')\n"
     ]
    }
   ],
   "source": [
    "driver = webdriver.Chrome('chromedriver.exe')\n",
    "scrollPauseTime = 4"
   ]
  },
  {
   "cell_type": "code",
   "execution_count": null,
   "metadata": {},
   "outputs": [],
   "source": []
  },
  {
   "cell_type": "code",
   "execution_count": null,
   "metadata": {},
   "outputs": [],
   "source": []
  },
  {
   "cell_type": "code",
   "execution_count": null,
   "metadata": {},
   "outputs": [],
   "source": []
  },
  {
   "cell_type": "code",
   "execution_count": null,
   "metadata": {},
   "outputs": [],
   "source": []
  },
  {
   "cell_type": "code",
   "execution_count": null,
   "metadata": {},
   "outputs": [],
   "source": []
  },
  {
   "cell_type": "code",
   "execution_count": null,
   "metadata": {},
   "outputs": [],
   "source": []
  },
  {
   "cell_type": "code",
   "execution_count": null,
   "metadata": {},
   "outputs": [],
   "source": []
  },
  {
   "cell_type": "code",
   "execution_count": null,
   "metadata": {},
   "outputs": [],
   "source": []
  },
  {
   "cell_type": "code",
   "execution_count": null,
   "metadata": {},
   "outputs": [],
   "source": []
  },
  {
   "cell_type": "code",
   "execution_count": null,
   "metadata": {},
   "outputs": [],
   "source": []
  },
  {
   "cell_type": "code",
   "execution_count": null,
   "metadata": {},
   "outputs": [],
   "source": []
  },
  {
   "cell_type": "code",
   "execution_count": null,
   "metadata": {},
   "outputs": [],
   "source": []
  },
  {
   "cell_type": "code",
   "execution_count": null,
   "metadata": {},
   "outputs": [],
   "source": []
  },
  {
   "cell_type": "code",
   "execution_count": null,
   "metadata": {},
   "outputs": [],
   "source": []
  },
  {
   "cell_type": "code",
   "execution_count": 14,
   "metadata": {},
   "outputs": [],
   "source": [
    "def accept_trans():\n",
    "    browser.get('https://app.airtm.com/peer-transfers/available')\n",
    "    time.sleep(scrollPauseTime+4)\n",
    "    rows = len(browser.find_elements_by_xpath(\"//table/tbody/tr\"))\n",
    "    availableMoney = float(150.5)\n",
    "    #print(rows)\n",
    "    trans = \"ADD\"\n",
    "    my_wallet = 'Paypal'\n",
    "    for r in range(1, rows+1):\n",
    "        try:\n",
    "            print(availableMoney)\n",
    "            trans_type = browser.find_element_by_xpath(\"//table/tbody/tr[\"+str(r)+\"]/td[1]/span[1]\").text[0:3]\n",
    "            #print(trans_type)\n",
    "            if(trans_type == trans):\n",
    "                wallet_type = browser.find_element_by_xpath(\"//table/tbody/tr[\"+str(r)+\"]/td[1]/div/span\").text\n",
    "                try:\n",
    "                    amount = browser.find_element_by_xpath(\"//table/tbody/tr[\"+str(r)+\"]/td[2]/span[3]/span[2]\").text[3:-4]\n",
    "                    real_amount = float(amount)\n",
    "                except ValueError:\n",
    "                    amount = browser.find_element_by_xpath(\"//table/tbody/tr[\"+str(r)+\"]/td[2]/span[3]/span[2]\").text[4:-4]\n",
    "                    real_amount = float(amount.replace(',',''))\n",
    "                button = browser.find_element_by_xpath(\"//table/tbody/tr[\"+str(r)+\"]/td[5]/button\")\n",
    "                time.sleep(scrollPauseTime)\n",
    "                if(wallet_type == my_wallet and real_amount <= availableMoney):\n",
    "                    #thanks to this for the push notification https://www.youtube.com/watch?v=tbzPcKRZlHg\n",
    "                    file = \"push.txt\"\n",
    "                    #Sending Push Notification\n",
    "                    API_KEY = \"o.vlVR2mR9pgkG0jyp7e5TN8IAKk3pYdjQ\"\n",
    "                    with open(file, mode= 'r') as f:\n",
    "                        text = f.read()\n",
    "                    pb = Pushbullet(API_KEY)\n",
    "                    push = pb.push_note('Alerta!!!', text)  \n",
    "                    button.click()\n",
    "                    availableMoney= availableMoney-real_amount\n",
    "                    time.sleep(scrollPauseTime+8)\n",
    "                    activity = browser.find_element_by_xpath(\"/html/body/div[1]/div/nav/ul/div[2]/li[2]\")\n",
    "                    activity.click()\n",
    "                    peer_transfers = browser.find_element_by_xpath(\"/html/body/div[1]/div/nav/ul/div[2]/li[3]\")\n",
    "                    peer_transfers.click()\n",
    "                    time.sleep(scrollPauseTime+8)\n",
    "                    if(availableMoney < 1.0):\n",
    "                        print('Disponibilidad Agotada')\n",
    "                        #Sending Push Notification\n",
    "                        API_KEY = \"o.vlVR2mR9pgkG0jyp7e5TN8IAKk3pYdjQ\"\n",
    "                        with open(file, mode= 'r') as f:\n",
    "                            text = f.read()\n",
    "                        pb = Pushbullet(API_KEY)\n",
    "                        push = pb.push_note('Sin plata mi rey!!!', text)\n",
    "                        break\n",
    "        except NoSuchElementException:\n",
    "            activity = browser.find_element_by_xpath(\"/html/body/div[1]/div/nav/ul/div[2]/li[2]\")\n",
    "            activity.click()\n",
    "            peer_transfers = browser.find_element_by_xpath(\"/html/body/div[1]/div/nav/ul/div[2]/li[3]\")\n",
    "            peer_transfers.click()\n",
    "            time.sleep(scrollPauseTime+8)\n",
    "            if(availableMoney < 1.0):\n",
    "                print('Disponibilidad Agotada')\n",
    "                #Sending Push Notification\n",
    "                API_KEY = \"o.vlVR2mR9pgkG0jyp7e5TN8IAKk3pYdjQ\"\n",
    "                with open(file, mode= 'r') as f:\n",
    "                    text = f.read()\n",
    "                pb = Pushbullet(API_KEY)\n",
    "                push = pb.push_note('Sin plata mi rey!!!', text)\n",
    "                break\n",
    "\n",
    "    #refresh the Page and run the code again\n",
    "    n = rd.randint(3,12) \n",
    "    print('Estoy llegando aqui')   \n",
    "    time.sleep(n)\n",
    "    activity = browser.find_element_by_xpath(\"/html/body/div[1]/div/nav/ul/div[2]/li[2]\")\n",
    "    activity.click()\n",
    "    time.sleep(n)\n",
    "    peer_transfers = browser.find_element_by_xpath(\"/html/body/div[1]/div/nav/ul/div[2]/li[3]\")\n",
    "    peer_transfers.click()\n",
    "    time.sleep(scrollPauseTime+30)\n",
    "    browser.refresh()\n",
    "    time.sleep(scrollPauseTime + 43)\n",
    "    accept_trans()"
   ]
  },
  {
   "cell_type": "code",
   "execution_count": 15,
   "metadata": {
    "tags": []
   },
   "outputs": [
    {
     "name": "stdout",
     "output_type": "stream",
     "text": [
      "Estoy llegando aqui\n"
     ]
    },
    {
     "ename": "KeyboardInterrupt",
     "evalue": "",
     "output_type": "error",
     "traceback": [
      "\u001b[1;31m---------------------------------------------------------------------------\u001b[0m",
      "\u001b[1;31mKeyboardInterrupt\u001b[0m                         Traceback (most recent call last)",
      "\u001b[1;32m<ipython-input-15-57d7dc47941e>\u001b[0m in \u001b[0;36m<module>\u001b[1;34m\u001b[0m\n\u001b[1;32m----> 1\u001b[1;33m \u001b[0maccept_trans\u001b[0m\u001b[1;33m(\u001b[0m\u001b[1;33m)\u001b[0m\u001b[1;33m\u001b[0m\u001b[1;33m\u001b[0m\u001b[0m\n\u001b[0m",
      "\u001b[1;32m<ipython-input-14-a0f098e298bc>\u001b[0m in \u001b[0;36maccept_trans\u001b[1;34m()\u001b[0m\n\u001b[0;32m     75\u001b[0m     \u001b[0mtime\u001b[0m\u001b[1;33m.\u001b[0m\u001b[0msleep\u001b[0m\u001b[1;33m(\u001b[0m\u001b[0mscrollPauseTime\u001b[0m\u001b[1;33m+\u001b[0m\u001b[1;36m30\u001b[0m\u001b[1;33m)\u001b[0m\u001b[1;33m\u001b[0m\u001b[1;33m\u001b[0m\u001b[0m\n\u001b[0;32m     76\u001b[0m     \u001b[0mbrowser\u001b[0m\u001b[1;33m.\u001b[0m\u001b[0mrefresh\u001b[0m\u001b[1;33m(\u001b[0m\u001b[1;33m)\u001b[0m\u001b[1;33m\u001b[0m\u001b[1;33m\u001b[0m\u001b[0m\n\u001b[1;32m---> 77\u001b[1;33m     \u001b[0mtime\u001b[0m\u001b[1;33m.\u001b[0m\u001b[0msleep\u001b[0m\u001b[1;33m(\u001b[0m\u001b[0mscrollPauseTime\u001b[0m \u001b[1;33m+\u001b[0m \u001b[1;36m43\u001b[0m\u001b[1;33m)\u001b[0m\u001b[1;33m\u001b[0m\u001b[1;33m\u001b[0m\u001b[0m\n\u001b[0m\u001b[0;32m     78\u001b[0m     \u001b[0maccept_trans\u001b[0m\u001b[1;33m(\u001b[0m\u001b[1;33m)\u001b[0m\u001b[1;33m\u001b[0m\u001b[1;33m\u001b[0m\u001b[0m\n",
      "\u001b[1;31mKeyboardInterrupt\u001b[0m: "
     ]
    }
   ],
   "source": [
    "accept_trans()"
   ]
  },
  {
   "cell_type": "code",
   "execution_count": 126,
   "metadata": {},
   "outputs": [],
   "source": [
    "browser.get('https://app.airtm.com/peer-transfers/available')\n"
   ]
  },
  {
   "cell_type": "code",
   "execution_count": null,
   "metadata": {},
   "outputs": [],
   "source": [
    "\n",
    "amount = \"+ Bs1,249,210,300.45 VES\"\n",
    "random = amount[2]\n",
    "print(random)\n",
    "amount2 = amount[4:-4]\n",
    "print(amount[4:-4])\n",
    "real_amount3 = float(amount2.replace(',',''))\n",
    "print(real_amount3)\n",
    "print(len(amount))\n"
   ]
  },
  {
   "cell_type": "code",
   "execution_count": 63,
   "metadata": {},
   "outputs": [
    {
     "name": "stdout",
     "output_type": "stream",
     "text": [
      "it is thousand or more\n",
      "2111111236.0\n"
     ]
    }
   ],
   "source": [
    "if (len(super_amount) <= 6):\n",
    "    print('it is thousand or less')\n",
    "else:\n",
    "    print('it is thousand or more')\n",
    "    min_amount = float(super_amount.replace(',', ''))\n",
    "    print(min_amount)\n",
    "#real_amount = float(min_amount.replace(',',''))\n",
    "#print(real_amount)\n",
    "#print(len(str(real_amount)))\n"
   ]
  },
  {
   "cell_type": "code",
   "execution_count": 3,
   "metadata": {},
   "outputs": [
    {
     "ename": "SyntaxError",
     "evalue": "invalid syntax (<ipython-input-3-3f94b7ae173c>, line 5)",
     "output_type": "error",
     "traceback": [
      "\u001b[1;36m  File \u001b[1;32m\"<ipython-input-3-3f94b7ae173c>\"\u001b[1;36m, line \u001b[1;32m5\u001b[0m\n\u001b[1;33m    bigger = + Bs49,210,300.45 VES\u001b[0m\n\u001b[1;37m                               ^\u001b[0m\n\u001b[1;31mSyntaxError\u001b[0m\u001b[1;31m:\u001b[0m invalid syntax\n"
     ]
    }
   ],
   "source": [
    "\n",
    "dolar_big = '+ $210,300.45 ARS'\n",
    "dolar_medium = '+ $300.45 ARS'\n",
    "dolar_small = '+ $3.45 ARS'\n",
    "bigger = + Bs49,210,300.45 VES\n",
    "medium = + Bs49,210,300.45 VES\n",
    "smaller = + Bs49,210,300.45 VES"
   ]
  },
  {
   "cell_type": "code",
   "execution_count": 12,
   "metadata": {},
   "outputs": [
    {
     "name": "stdout",
     "output_type": "stream",
     "text": [
      "8,322,342,111,300.45\n",
      "8322342111300.45\n",
      "8322342111300.45\n",
      "<class 'float'>\n"
     ]
    }
   ],
   "source": [
    "amount = '+ $8,322,342,111,300.45 ARS'\n",
    "bolivars = amount[2]\n",
    "if(bolivars == 'B' and len(amount) <= 14):\n",
    "    amount2 = amount[4:-4]\n",
    "    real_amount = float(amount2)\n",
    "    print(real_amount)\n",
    "    print('es menor a 14')\n",
    "    print(type(real_amount))\n",
    "elif(bolivars == 'B' and len(amount) >= 15):\n",
    "    amount2 = amount[4:-4]\n",
    "    amount3 = amount2.replace(',','')\n",
    "    real_amount = float(amount3)\n",
    "    print(real_amount)\n",
    "    print('es mayor a 14')\n",
    "    print(type(real_amount))\n",
    "elif(bolivars != 'B' and len(amount) <= 13):\n",
    "    amount2 = amount[3:-4]\n",
    "    real_amount = float(amount2)\n",
    "    print(real_amount)\n",
    "    print('es menor a 14')\n",
    "    print(type(real_amount))\n",
    "else:\n",
    "        amount2 = amount[3:-4]\n",
    "        print(amount2)\n",
    "        amount3 = amount2.replace(',','')\n",
    "        print(amount3)\n",
    "        real_amount = float(amount3)\n",
    "        print(real_amount)\n",
    "        print('es mayor a 14')\n",
    "        print(type(real_amount))"
   ]
  },
  {
   "cell_type": "code",
   "execution_count": null,
   "metadata": {},
   "outputs": [],
   "source": []
  },
  {
   "cell_type": "code",
   "execution_count": null,
   "metadata": {},
   "outputs": [],
   "source": []
  },
  {
   "cell_type": "code",
   "execution_count": null,
   "metadata": {},
   "outputs": [],
   "source": []
  },
  {
   "cell_type": "code",
   "execution_count": null,
   "metadata": {},
   "outputs": [],
   "source": []
  },
  {
   "cell_type": "code",
   "execution_count": 45,
   "metadata": {},
   "outputs": [],
   "source": []
  },
  {
   "cell_type": "code",
   "execution_count": 13,
   "metadata": {},
   "outputs": [],
   "source": []
  },
  {
   "cell_type": "code",
   "execution_count": null,
   "metadata": {},
   "outputs": [],
   "source": []
  },
  {
   "cell_type": "code",
   "execution_count": null,
   "metadata": {},
   "outputs": [],
   "source": []
  },
  {
   "cell_type": "code",
   "execution_count": null,
   "metadata": {},
   "outputs": [],
   "source": []
  },
  {
   "cell_type": "code",
   "execution_count": null,
   "metadata": {},
   "outputs": [],
   "source": []
  },
  {
   "cell_type": "code",
   "execution_count": null,
   "metadata": {},
   "outputs": [],
   "source": []
  },
  {
   "cell_type": "code",
   "execution_count": null,
   "metadata": {},
   "outputs": [],
   "source": []
  },
  {
   "cell_type": "code",
   "execution_count": null,
   "metadata": {},
   "outputs": [],
   "source": []
  },
  {
   "cell_type": "code",
   "execution_count": null,
   "metadata": {},
   "outputs": [],
   "source": []
  }
 ],
 "metadata": {
  "kernelspec": {
   "display_name": "Python 3",
   "language": "python",
   "name": "python3"
  },
  "language_info": {
   "codemirror_mode": {
    "name": "ipython",
    "version": 3
   },
   "file_extension": ".py",
   "mimetype": "text/x-python",
   "name": "python",
   "nbconvert_exporter": "python",
   "pygments_lexer": "ipython3",
   "version": "3.9.6"
  },
  "vscode": {
   "interpreter": {
    "hash": "99e2b6a63a149ed9129e7cf1f18d482aeb9db3d9fa5ba25ef19eed4991f571a2"
   }
  }
 },
 "nbformat": 4,
 "nbformat_minor": 4
}
